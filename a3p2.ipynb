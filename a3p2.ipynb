{
  "nbformat": 4,
  "nbformat_minor": 0,
  "metadata": {
    "colab": {
      "name": "Untitled0.ipynb",
      "provenance": [],
      "collapsed_sections": [],
      "authorship_tag": "ABX9TyO7GdEG03BwoSGKHfvUOAhW",
      "include_colab_link": true
    },
    "kernelspec": {
      "name": "python3",
      "display_name": "Python 3"
    }
  },
  "cells": [
    {
      "cell_type": "markdown",
      "metadata": {
        "id": "view-in-github",
        "colab_type": "text"
      },
      "source": [
        "<a href=\"https://colab.research.google.com/github/rabingora001/ASP.Net-CRUDelicious/blob/master/a3p2.ipynb\" target=\"_parent\"><img src=\"https://colab.research.google.com/assets/colab-badge.svg\" alt=\"Open In Colab\"/></a>"
      ]
    },
    {
      "cell_type": "code",
      "metadata": {
        "id": "kq0GRlps-B1U"
      },
      "source": [
        "import tensorflow as tf\n",
        "from matplotlib import pyplot as plt\n",
        "import numpy as np"
      ],
      "execution_count": 90,
      "outputs": []
    },
    {
      "cell_type": "code",
      "metadata": {
        "id": "S1zR0Yjq-YRX"
      },
      "source": [
        "mnist = tf.keras.datasets.mnist\n",
        "\n",
        "(x_train, y_train), (x_test, y_test) = mnist.load_data()\n",
        "x_train, x_test = x_train / 255.0, x_test / 255.0"
      ],
      "execution_count": 91,
      "outputs": []
    },
    {
      "cell_type": "code",
      "metadata": {
        "colab": {
          "base_uri": "https://localhost:8080/",
          "height": 282
        },
        "id": "QTZC2Lt_LZfk",
        "outputId": "51d192d3-ad53-44ed-9ec4-58c768e9171c"
      },
      "source": [
        "#order is 700\n",
        "sampel_number=700\n",
        "plt.imshow(x_train[sampel_number], cmap='gray')\n",
        "plt.show()\n",
        "\n",
        "print(y_train[sampel_number])"
      ],
      "execution_count": 92,
      "outputs": [
        {
          "output_type": "display_data",
          "data": {
            "image/png": "[encoded data removed]",
            "text/plain": [
              "<Figure size 432x288 with 1 Axes>"
            ]
          },
          "metadata": {
            "tags": [],
            "needs_background": "light"
          }
        },
        {
          "output_type": "stream",
          "text": [
            "4\n"
          ],
          "name": "stdout"
        }
      ]
    },
    {
      "cell_type": "code",
      "metadata": {
        "colab": {
          "base_uri": "https://localhost:8080/",
          "height": 282
        },
        "id": "1ZI76zD7O5wX",
        "outputId": "b5f28ed5-2356-4633-f60f-50dc7d93353c"
      },
      "source": [
        "sampel_number2=700\n",
        "plt.imshow(x_test[sampel_number], cmap='gray')\n",
        "plt.show()\n",
        "\n",
        "print(y_test[sampel_number2])"
      ],
      "execution_count": 93,
      "outputs": [
        {
          "output_type": "display_data",
          "data": {
            "image/png": "[encoded data removed]",
            "text/plain": [
              "<Figure size 432x288 with 1 Axes>"
            ]
          },
          "metadata": {
            "tags": [],
            "needs_background": "light"
          }
        },
        {
          "output_type": "stream",
          "text": [
            "1\n"
          ],
          "name": "stdout"
        }
      ]
    },
    {
      "cell_type": "code",
      "metadata": {
        "colab": {
          "base_uri": "https://localhost:8080/"
        },
        "id": "T3nvblih-dvi",
        "outputId": "e7c97093-4178-49ed-8227-9af78d816b95"
      },
      "source": [
        "#60000 is the number of data samples. 28*28 is my image\n",
        "x_train.shape"
      ],
      "execution_count": 94,
      "outputs": [
        {
          "output_type": "execute_result",
          "data": {
            "text/plain": [
              "(60000, 28, 28)"
            ]
          },
          "metadata": {
            "tags": []
          },
          "execution_count": 94
        }
      ]
    },
    {
      "cell_type": "code",
      "metadata": {
        "id": "q09Uc4NyLU0i"
      },
      "source": [
        ""
      ],
      "execution_count": 94,
      "outputs": []
    },
    {
      "cell_type": "code",
      "metadata": {
        "id": "EfeF2hea-h80"
      },
      "source": [
        "#-1 tells us to put the rest of elements in the other dimension\n",
        "x_train=x_train.reshape(60000,-1)"
      ],
      "execution_count": 95,
      "outputs": []
    },
    {
      "cell_type": "code",
      "metadata": {
        "colab": {
          "base_uri": "https://localhost:8080/"
        },
        "id": "-NlYEn_i-jLF",
        "outputId": "0e9c05da-4492-4450-ea0a-b6657397707e"
      },
      "source": [
        "x_train.shape"
      ],
      "execution_count": 96,
      "outputs": [
        {
          "output_type": "execute_result",
          "data": {
            "text/plain": [
              "(60000, 784)"
            ]
          },
          "metadata": {
            "tags": []
          },
          "execution_count": 96
        }
      ]
    },
    {
      "cell_type": "code",
      "metadata": {
        "colab": {
          "base_uri": "https://localhost:8080/"
        },
        "id": "8GyfqT-cAk7B",
        "outputId": "55e62df1-9d30-4efd-ad20-4838f4cbc107"
      },
      "source": [
        "x_test.shape"
      ],
      "execution_count": 97,
      "outputs": [
        {
          "output_type": "execute_result",
          "data": {
            "text/plain": [
              "(10000, 28, 28)"
            ]
          },
          "metadata": {
            "tags": []
          },
          "execution_count": 97
        }
      ]
    },
    {
      "cell_type": "code",
      "metadata": {
        "id": "ANdFvAIBApJU"
      },
      "source": [
        "x_test = x_test.reshape(10000, -1)"
      ],
      "execution_count": 98,
      "outputs": []
    },
    {
      "cell_type": "code",
      "metadata": {
        "colab": {
          "base_uri": "https://localhost:8080/"
        },
        "id": "ch4YZ4ZkA6WT",
        "outputId": "ac022c3a-6941-4ac4-fe99-ed6b483f58d2"
      },
      "source": [
        "x_test.shape"
      ],
      "execution_count": 99,
      "outputs": [
        {
          "output_type": "execute_result",
          "data": {
            "text/plain": [
              "(10000, 784)"
            ]
          },
          "metadata": {
            "tags": []
          },
          "execution_count": 99
        }
      ]
    },
    {
      "cell_type": "code",
      "metadata": {
        "id": "RYtfNbWeBM95"
      },
      "source": [
        "from sklearn.neural_network import MLPClassifier\n"
      ],
      "execution_count": 100,
      "outputs": []
    },
    {
      "cell_type": "code",
      "metadata": {
        "colab": {
          "base_uri": "https://localhost:8080/"
        },
        "id": "R3bI0jQFBtmE",
        "outputId": "d5b5da52-3e4e-4b91-f8f2-eaf6ab0637f7"
      },
      "source": [
        "#model using MPL classifier\n",
        "clf = MLPClassifier(solver='adam', alpha=1e-5,activation='relu',max_iter=5,hidden_layer_sizes=(10,3,4),verbose=True, random_state=1)\n",
        "clf.fit(x_train, y_train)"
      ],
      "execution_count": 101,
      "outputs": [
        {
          "output_type": "stream",
          "text": [
            "Iteration 1, loss = 1.79435288\n",
            "Iteration 2, loss = 1.17604447\n",
            "Iteration 3, loss = 0.86609249\n",
            "Iteration 4, loss = 0.72432751\n",
            "Iteration 5, loss = 0.60530848\n"
          ],
          "name": "stdout"
        },
        {
          "output_type": "stream",
          "text": [
            "/usr/local/lib/python3.6/dist-packages/sklearn/neural_network/_multilayer_perceptron.py:571: ConvergenceWarning: Stochastic Optimizer: Maximum iterations (5) reached and the optimization hasn't converged yet.\n",
            "  % self.max_iter, ConvergenceWarning)\n"
          ],
          "name": "stderr"
        },
        {
          "output_type": "execute_result",
          "data": {
            "text/plain": [
              "MLPClassifier(activation='relu', alpha=1e-05, batch_size='auto', beta_1=0.9,\n",
              "              beta_2=0.999, early_stopping=False, epsilon=1e-08,\n",
              "              hidden_layer_sizes=(10, 3, 4), learning_rate='constant',\n",
              "              learning_rate_init=0.001, max_fun=15000, max_iter=5, momentum=0.9,\n",
              "              n_iter_no_change=10, nesterovs_momentum=True, power_t=0.5,\n",
              "              random_state=1, shuffle=True, solver='adam', tol=0.0001,\n",
              "              validation_fraction=0.1, verbose=True, warm_start=False)"
            ]
          },
          "metadata": {
            "tags": []
          },
          "execution_count": 101
        }
      ]
    },
    {
      "cell_type": "code",
      "metadata": {
        "colab": {
          "base_uri": "https://localhost:8080/"
        },
        "id": "uqLZidKSJ-fH",
        "outputId": "0c4f6b91-e7de-448e-d067-0cd4e8631c3b"
      },
      "source": [
        "#predit the accuracy\n",
        "output1=clf.predict(x_test)\n",
        "output1"
      ],
      "execution_count": 102,
      "outputs": [
        {
          "output_type": "execute_result",
          "data": {
            "text/plain": [
              "array([7, 2, 1, ..., 4, 5, 6], dtype=uint8)"
            ]
          },
          "metadata": {
            "tags": []
          },
          "execution_count": 102
        }
      ]
    },
    {
      "cell_type": "code",
      "metadata": {
        "id": "a0eAkTybQc8F"
      },
      "source": [
        "x_test = x_test.reshape(10000,28, 28)"
      ],
      "execution_count": 103,
      "outputs": []
    },
    {
      "cell_type": "code",
      "metadata": {
        "colab": {
          "base_uri": "https://localhost:8080/",
          "height": 282
        },
        "id": "l2N8X3bGP6Qb",
        "outputId": "c1e3b638-5311-40d7-e567-6e9f72a3bc60"
      },
      "source": [
        "sampel_number3=800\n",
        "plt.imshow(x_test[sampel_number3], cmap='gray')\n",
        "plt.show()\n",
        "\n",
        "print(y_test[sampel_number3])"
      ],
      "execution_count": 110,
      "outputs": [
        {
          "output_type": "display_data",
          "data": {
            "image/png": "[encoded data removed]",
            "text/plain": [
              "<Figure size 432x288 with 1 Axes>"
            ]
          },
          "metadata": {
            "tags": [],
            "needs_background": "light"
          }
        },
        {
          "output_type": "stream",
          "text": [
            "8\n"
          ],
          "name": "stdout"
        }
      ]
    },
    {
      "cell_type": "code",
      "metadata": {
        "colab": {
          "base_uri": "https://localhost:8080/"
        },
        "id": "JDj26jwdQ3u0",
        "outputId": "bdaed43b-1534-44d2-e501-ccaaf18882fc"
      },
      "source": [
        "# to check if model agrees with the image\n",
        "print(output1[sampel_number3])"
      ],
      "execution_count": 111,
      "outputs": [
        {
          "output_type": "stream",
          "text": [
            "8\n"
          ],
          "name": "stdout"
        }
      ]
    },
    {
      "cell_type": "code",
      "metadata": {
        "colab": {
          "base_uri": "https://localhost:8080/"
        },
        "id": "CRe6Td66UB-y",
        "outputId": "c06a6e4c-add6-4264-822e-91b47d0e489f"
      },
      "source": [
        "from sklearn.metrics import accuracy_score\n",
        "accuracy_score(y_test, output1)\n"
      ],
      "execution_count": 114,
      "outputs": [
        {
          "output_type": "execute_result",
          "data": {
            "text/plain": [
              "0.8499"
            ]
          },
          "metadata": {
            "tags": []
          },
          "execution_count": 114
        }
      ]
    },
    {
      "cell_type": "code",
      "metadata": {
        "colab": {
          "base_uri": "https://localhost:8080/"
        },
        "id": "ZTo6dkwfU-rc",
        "outputId": "cd3f9ad9-1704-4114-f996-94cc6cbff760"
      },
      "source": [
        "output2=clf.predict(x_train)\n",
        "output2"
      ],
      "execution_count": 116,
      "outputs": [
        {
          "output_type": "execute_result",
          "data": {
            "text/plain": [
              "array([3, 0, 4, ..., 5, 6, 8], dtype=uint8)"
            ]
          },
          "metadata": {
            "tags": []
          },
          "execution_count": 116
        }
      ]
    },
    {
      "cell_type": "code",
      "metadata": {
        "colab": {
          "base_uri": "https://localhost:8080/"
        },
        "id": "iNl4CN-BVr7W",
        "outputId": "1896df9f-2600-4040-a34c-c05b68e7e657"
      },
      "source": [
        "accuracy_score(y_train, output2)"
      ],
      "execution_count": 117,
      "outputs": [
        {
          "output_type": "execute_result",
          "data": {
            "text/plain": [
              "0.85125"
            ]
          },
          "metadata": {
            "tags": []
          },
          "execution_count": 117
        }
      ]
    }
  ]
}